{
 "cells": [
  {
   "cell_type": "markdown",
   "id": "cb76f800-0c36-4616-bd37-8e49a67eaecf",
   "metadata": {},
   "source": [
    "Q1. Create a python program to sort the given list of tuples based on integer value using a\n",
    "lambda function. \n",
    "\n",
    "[('Sachin Tendulkar', 34357), ('Ricky Ponting', 27483), ('Jack Kallis', 25534), ('Virat Kohli', 24936)]\n"
   ]
  },
  {
   "cell_type": "code",
   "execution_count": null,
   "id": "b5d323c1-9a2d-434b-8d75-fbf4b40bee42",
   "metadata": {},
   "outputs": [],
   "source": [
    "#Answer 1\n",
    "\n",
    "l=[('Sachin Tendulkar', 34357), ('Ricky Ponting', 27483), ('Jack Kallis', 25534), ('Virat Kohli', 24936)]\n",
    "print(\"\\nOriginal list:\" ,l)\n",
    "integer_Value= l.sort(key=lambda i:i[1]) \n",
    "print(\"\\nSorted list :\",l)"
   ]
  },
  {
   "cell_type": "markdown",
   "id": "551dc14b-1d64-4b98-ad6a-9c8efae7b9a3",
   "metadata": {},
   "source": [
    "Q2. Write a Python Program to find the squares of all the numbers in the given list of integers using\n",
    "lambda and map functions.\n",
    "\n",
    "[1, 2, 3, 4, 5, 6, 7, 8, 9, 10]"
   ]
  },
  {
   "cell_type": "code",
   "execution_count": null,
   "id": "5681d915-063e-4011-a817-b066d731f677",
   "metadata": {},
   "outputs": [],
   "source": [
    "#Answer 2\n",
    "#by using lambda function \n",
    "l1=[]\n",
    "l2=[1,2,3,4,5,6,7,8,9,10]\n",
    "for x in l2:\n",
    "    sqrt=lambda x:x**2\n",
    "    l1.append(sqrt(x))\n",
    "print(l1)\n",
    "\n",
    "#by using map function\n",
    "list(map(lambda i: i**2, l2))\n"
   ]
  },
  {
   "cell_type": "markdown",
   "id": "9ef2afb7-a03d-43eb-ac3b-56a897291c26",
   "metadata": {},
   "source": [
    "Q3. Write a python program to convert the given list of integers into a tuple of strings. Use map and\n",
    "lambda functions\n",
    "\n",
    "Given String: [1, 2, 3, 4, 5, 6, 7, 8, 9, 10]\n",
    "\n",
    "Expected output: ('1', '2', '3', '4', '5', '6', '7', '8', '9', '10')"
   ]
  },
  {
   "cell_type": "code",
   "execution_count": null,
   "id": "35ad866f-f161-4641-aa5d-08579f5b77f4",
   "metadata": {},
   "outputs": [],
   "source": [
    "#Answer 3\n",
    "\n",
    "l3=[1, 2, 3, 4, 5, 6, 7, 8, 9, 10]\n",
    "\n",
    "list(map(lambda i: str(i),l3))\n"
   ]
  },
  {
   "cell_type": "markdown",
   "id": "c1856634-9eb8-4fa0-a0db-ee6b38f46b76",
   "metadata": {},
   "source": [
    "Q4.  Write a python program using reduce function to compute the product of a list containing numbers\n",
    "from 1 to 25."
   ]
  },
  {
   "cell_type": "code",
   "execution_count": null,
   "id": "e416a2e7-e3cd-4ce9-addd-34403b536412",
   "metadata": {},
   "outputs": [],
   "source": [
    "#Answer 4\n",
    "\n",
    "import functools\n",
    "print(\"The product of 1 to 25 is :- \")\n",
    "functools.reduce(lambda a,b :a*b, range(1,26)) \n"
   ]
  },
  {
   "cell_type": "markdown",
   "id": "76c43e26-473a-4f57-9dcf-150efb514e1a",
   "metadata": {},
   "source": [
    "Q5. Write a python program to filter the numbers in a given list that are divisible by 2 and 3 using the\n",
    "filter function.\n",
    "\n",
    "[2, 3, 6, 9, 27, 60, 90, 120, 55, 46]"
   ]
  },
  {
   "cell_type": "code",
   "execution_count": null,
   "id": "63df4170-e482-48da-873e-17e4f93da030",
   "metadata": {},
   "outputs": [],
   "source": [
    "#Answer 5\n",
    "\n",
    "l4=[2, 3, 6, 9, 27, 60, 90, 120, 55, 46]\n",
    "\n",
    "def divisible(n):\n",
    "    if n%2==0 and n%3==0:\n",
    "        return n\n",
    "    \n",
    "list(filter(divisible, l4))\n"
   ]
  },
  {
   "cell_type": "markdown",
   "id": "13fecfd7-bd29-4685-a826-59ff66931cad",
   "metadata": {},
   "source": [
    "Q6. Write a python program to find palindromes in the given list of strings using lambda and filter\n",
    "function.\n",
    "\n",
    "['python', 'php', 'aba', 'radar', 'level']"
   ]
  },
  {
   "cell_type": "code",
   "execution_count": null,
   "id": "bb505410-1c9a-4f1a-9a70-25ac9cde42a0",
   "metadata": {},
   "outputs": [],
   "source": [
    "#Answer 6\n",
    "text=['python', 'php', 'aba', 'radar', 'level']\n",
    "palindromes=list(filter(lambda x: (x==\"\".join(reversed(x))),text))\n",
    "print(\"list of palidromes strings are :\", palindromes)"
   ]
  },
  {
   "cell_type": "code",
   "execution_count": null,
   "id": "eb9ed259-0325-4c7f-9eb0-633a137896ae",
   "metadata": {},
   "outputs": [],
   "source": []
  }
 ],
 "metadata": {
  "kernelspec": {
   "display_name": "Python 3 (ipykernel)",
   "language": "python",
   "name": "python3"
  },
  "language_info": {
   "codemirror_mode": {
    "name": "ipython",
    "version": 3
   },
   "file_extension": ".py",
   "mimetype": "text/x-python",
   "name": "python",
   "nbconvert_exporter": "python",
   "pygments_lexer": "ipython3",
   "version": "3.10.6"
  }
 },
 "nbformat": 4,
 "nbformat_minor": 5
}
