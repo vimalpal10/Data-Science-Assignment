{
 "cells": [
  {
   "cell_type": "code",
   "execution_count": null,
   "id": "d2f1c706-cf1c-4191-98a8-ca4507935cee",
   "metadata": {},
   "outputs": [],
   "source": [
    "#Answer 1\n",
    "#All for loops can be written as while loops, and vice-versa. We should use a for loop when we know how many times the loop should run.\n",
    "#If we want the loop to break based on a condition other than the number of times it runs, we should use a while loop.\n",
    "\n",
    "#For Example\n",
    "# I want to print my name as many times as the number of character in the string.\n",
    "\n",
    "I= \"Vimal Pal\"\n",
    "for i in I:\n",
    "    print(I)\n",
    "print(\"This is for loop\")\n",
    "\n",
    "# While loop\n",
    "# We can print the same name as per the condion\n",
    "\n",
    "x=1\n",
    "while x<=6:\n",
    "    print(I)\n",
    "    x=x+1\n",
    "print(\"This is While loop\")\n"
   ]
  },
  {
   "cell_type": "code",
   "execution_count": null,
   "id": "04236c4f-691c-4748-a6b6-b9adfc8043ff",
   "metadata": {},
   "outputs": [],
   "source": [
    "#Answer 2\n",
    "\n",
    "#sum and product of 10 naturalnumbers by using for loop\n",
    "total=0\n",
    "product=1\n",
    "number=[1,2,3,4,5,6,7,8,9,10]\n",
    "print(\"This result is given by for loop\")\n",
    "for i in number :\n",
    "    total+=i\n",
    "    product*=i\n",
    "print(total,product)\n",
    "\n",
    "#sum and product of 10 natural numbers by using while loop\n",
    "\n",
    "print(\"This result is given by while loop\")\n",
    "counter=1\n",
    "tot=0\n",
    "pro=1\n",
    "while counter<=10:\n",
    "    tot+=counter\n",
    "    pro*=counter\n",
    "    counter=counter+1\n",
    "print(tot,pro)\n",
    "    "
   ]
  },
  {
   "cell_type": "code",
   "execution_count": null,
   "id": "2a4692a0-3afe-4f8b-a56b-ccf2f5970699",
   "metadata": {},
   "outputs": [],
   "source": [
    "###### Answer 3\n",
    "\n",
    "unit=int(input(\"Enter the unit consumed\"))\n",
    "if unit <= 100:\n",
    "    bill=unit*4.5\n",
    "elif unit<=200:\n",
    "    unit2=unit-100\n",
    "    bill=unit2*6+4.5*100\n",
    "elif unit<=300:\n",
    "    unit2=unit-200\n",
    "    bill=unit2*10+4.5*100+6*100\n",
    "else:\n",
    "    unit2=unit-300\n",
    "    bill=unit2*20+4.5*100+6*100+10*100\n",
    "\n",
    "print(\"Your total Bill is\",bill,\"Rupees Only\")\n"
   ]
  },
  {
   "cell_type": "code",
   "execution_count": null,
   "id": "bd73977d-ef08-45cf-8c5b-3ed0aa4bcf86",
   "metadata": {},
   "outputs": [],
   "source": [
    "#Answer 4\n",
    "\n",
    "l=[]\n",
    "cube=[]\n",
    "for i in range(1,101):\n",
    "    l.append(i)\n",
    "for i in l:\n",
    "    if (i**3)%4==0 or (i**3)%5==0:\n",
    "        cube.append(i**3)\n",
    "print(cube)\n",
    "\n",
    "\n",
    "\n"
   ]
  },
  {
   "cell_type": "code",
   "execution_count": null,
   "id": "f39ae5d6-43be-4fb3-b8a1-203dd988b6d8",
   "metadata": {},
   "outputs": [],
   "source": [
    "#Answer 5\n",
    "\n",
    "l=[]\n",
    "string=\"I want to become a data scientist\"\n",
    "for i in string:\n",
    "    if i==\"a\" or i==\"A\" or i==\"e\"or i==\"E\" or i==\"o\"or i==\"O\" or i==\"u\" or i==\"U\" or i==\"i\" or i==\"I\":\n",
    "        l.append(i)\n",
    "print(l)\n",
    "    "
   ]
  },
  {
   "cell_type": "code",
   "execution_count": null,
   "id": "9edfc804-5202-40f8-ab7e-0f54857b1aa5",
   "metadata": {},
   "outputs": [],
   "source": []
  }
 ],
 "metadata": {
  "kernelspec": {
   "display_name": "Python 3 (ipykernel)",
   "language": "python",
   "name": "python3"
  },
  "language_info": {
   "codemirror_mode": {
    "name": "ipython",
    "version": 3
   },
   "file_extension": ".py",
   "mimetype": "text/x-python",
   "name": "python",
   "nbconvert_exporter": "python",
   "pygments_lexer": "ipython3",
   "version": "3.10.6"
  }
 },
 "nbformat": 4,
 "nbformat_minor": 5
}
