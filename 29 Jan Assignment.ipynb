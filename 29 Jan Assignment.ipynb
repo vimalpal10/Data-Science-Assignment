{
 "cells": [
  {
   "cell_type": "code",
   "execution_count": null,
   "id": "08998667-d5d6-44a3-9ae5-401e7ddde444",
   "metadata": {},
   "outputs": [],
   "source": [
    "Ans 1. Python Language developed by Guido Van Rossum in 1991."
   ]
  },
  {
   "cell_type": "code",
   "execution_count": null,
   "id": "a5f0c49b-653e-4b95-85e2-a07b28faa42c",
   "metadata": {},
   "outputs": [],
   "source": [
    "Ans 2. Python supports structued, object oriented and functional programming. "
   ]
  },
  {
   "cell_type": "code",
   "execution_count": null,
   "id": "fefa8207-7b53-4bc2-aa66-68dec5a1e99b",
   "metadata": {},
   "outputs": [],
   "source": [
    "Ans 3.Yes, it is case sensitive language\n"
   ]
  },
  {
   "cell_type": "code",
   "execution_count": null,
   "id": "bc7637e3-8020-4e2f-9d62-6661088c43e4",
   "metadata": {},
   "outputs": [],
   "source": [
    "Ans 4. .py"
   ]
  },
  {
   "cell_type": "code",
   "execution_count": null,
   "id": "832cbbf9-699f-4f4d-b75d-7ee6523aea0a",
   "metadata": {},
   "outputs": [],
   "source": [
    "Ans 5. Python is a interpreted not compiled."
   ]
  },
  {
   "cell_type": "code",
   "execution_count": 1,
   "id": "213ceba3-2bbd-46d9-8fa6-b44c5e0425aa",
   "metadata": {},
   "outputs": [
    {
     "name": "stdout",
     "output_type": "stream",
     "text": [
      "Correct Name!!\n",
      "HI\n"
     ]
    }
   ],
   "source": [
    "#Ans 6. Blocks of code \n",
    "\n",
    "name = 'Vimal'\n",
    "    \n",
    "if name == 'Vimal':\n",
    "    print('Correct Name!!')\n",
    "else:\n",
    "\tprint('InCorrect Name:(')\n",
    "print('HI')"
   ]
  },
  {
   "cell_type": "code",
   "execution_count": null,
   "id": "a5468c10-b58c-446f-8335-e6d9952bea5f",
   "metadata": {},
   "outputs": [],
   "source": [
    "Ans 7. \"#\" is used to give single line comment in python."
   ]
  },
  {
   "cell_type": "code",
   "execution_count": null,
   "id": "5eefd64c-b4a2-4598-9d3b-4489a4d9521d",
   "metadata": {},
   "outputs": [],
   "source": [
    "Ans 8. To find the version of Python we have to enter "
   ]
  },
  {
   "cell_type": "code",
   "execution_count": null,
   "id": "b8aa63c7-451b-4711-a735-5832d54f4321",
   "metadata": {},
   "outputs": [],
   "source": [
    "Ans 9. Python supports the creation of anonymous function at runtime using a construct called lambda."
   ]
  },
  {
   "cell_type": "code",
   "execution_count": null,
   "id": "fd6b4a66-a56e-4425-b0b9-0552bf0ba0ee",
   "metadata": {},
   "outputs": [],
   "source": [
    "Ans 10. PIP stand for preferred installer program which allows to install and manage additional packages that are not part of the\n",
    "        python standard library.\n",
    "    "
   ]
  },
  {
   "cell_type": "code",
   "execution_count": null,
   "id": "27cfcfad-ed89-433a-a108-ebd3afc66e46",
   "metadata": {},
   "outputs": [],
   "source": [
    "Ans 11. Some of the built in function in python are:-\n",
    "        len()\n",
    "        print()\n",
    "        del()\n",
    "        complex()\n",
    "        delattr()"
   ]
  },
  {
   "cell_type": "code",
   "execution_count": null,
   "id": "9566ca50-785d-4476-a218-8e9456df9669",
   "metadata": {},
   "outputs": [],
   "source": [
    "Ans 12. The maximum possible length of an identifier is 79 character in python."
   ]
  },
  {
   "cell_type": "code",
   "execution_count": null,
   "id": "9a1372cf-043f-4c85-b369-231f9b3b0a70",
   "metadata": {},
   "outputs": [],
   "source": [
    "Ans 13. There are a lot of benefites of using python:-\n",
    "        1. It is largely used by professional programmers and developers across a variety of fields, including Web Development \n",
    "           and Machine Learning.\n",
    "        2. It is extensive support libraries like NumPy for numerical calculations, Pandas for data analytics, etc.\n",
    "        3. It is Open source and large active community base.\n",
    "        4. Versatile, Easy to read, learn and write\n",
    "        5. User-friendly data structures\n",
    "        6. Ideal for prototypes – provide more functionality with less coding.\n",
    "        7. It is Object-Oriented and Procedural  Programming language.\n",
    "        8. Portable across Operating systems .\n",
    "    "
   ]
  },
  {
   "cell_type": "code",
   "execution_count": null,
   "id": "73435df0-1812-4db5-b28e-56ca8bbf2a36",
   "metadata": {},
   "outputs": [],
   "source": [
    "Ans 14. Python has a private heap that stores our program’s objects and data structures. Python memory manager takes care of the\n",
    "        bulk of the memory management work and allows us to concentrate on our code."
   ]
  },
  {
   "cell_type": "code",
   "execution_count": null,
   "id": "a3b4fc38-dc45-4e76-a21c-a1ff1bb75a8c",
   "metadata": {},
   "outputs": [],
   "source": [
    "Ans 15. To install python on windows  visit https://www.python.org/downloads/ and download the latested .exe file from the \n",
    "        website and install it \n",
    "    \n",
    "            To Set path variables:-\n",
    "\n",
    "            1.Right clicking This PC and going to Properties.\n",
    "\n",
    "            2.Clicking on the Advanced system settings in the menu on the left.\n",
    "\n",
    "            3.Clicking on the Environment Variables button o​n the bottom right.\n",
    "\n",
    "            4.In the System variables section, selecting the Path variable and clicking on Edit. The next screen will show all \n",
    "            the directories that are currently a part of the PATH variable.\n",
    "\n",
    "            5.Clicking on New and entering Python’s install directory."
   ]
  },
  {
   "cell_type": "code",
   "execution_count": null,
   "id": "5ec21549-1eb8-4911-b6bf-da608fb3906b",
   "metadata": {},
   "outputs": [],
   "source": [
    "Ans 16. Yes, in Python indentation requirs."
   ]
  }
 ],
 "metadata": {
  "kernelspec": {
   "display_name": "Python 3 (ipykernel)",
   "language": "python",
   "name": "python3"
  },
  "language_info": {
   "codemirror_mode": {
    "name": "ipython",
    "version": 3
   },
   "file_extension": ".py",
   "mimetype": "text/x-python",
   "name": "python",
   "nbconvert_exporter": "python",
   "pygments_lexer": "ipython3",
   "version": "3.10.6"
  }
 },
 "nbformat": 4,
 "nbformat_minor": 5
}
