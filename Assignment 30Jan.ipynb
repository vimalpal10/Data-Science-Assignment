{
 "cells": [
  {
   "cell_type": "code",
   "execution_count": null,
   "metadata": {},
   "outputs": [],
   "source": [
    "#Answer 1:-\n",
    "\n",
    "percentage=int(input(\"Please enter your percentage\"))\n",
    "if percentage>=90:\n",
    "    print(\"You have A Grade\")\n",
    "elif percentage>=80:\n",
    "    print(\"You have B Grade\")\n",
    "elif percentage>=60:\n",
    "    print(\"You have C Grade\")\n",
    "else :\n",
    "    print(\"You have D Grade\")"
   ]
  },
  {
   "cell_type": "code",
   "execution_count": null,
   "metadata": {},
   "outputs": [],
   "source": [
    "#Answer 2:-\n",
    "\n",
    "Bike_cost=int(input(\"Please enter the cost of your Bike\"))\n",
    "\n",
    "if Bike_cost>100000:\n",
    "    print(\"Your Tax is\",15*Bike_cost/100,\"Rupees only\")\n",
    "    \n",
    "elif Bike_cost>50000 :\n",
    "    print(\"Your Tax is\",10*Bike_cost/100,\"Rupees only\")  \n",
    "              \n",
    "else :\n",
    "    x=5*Bike_cost/100\n",
    "    print(\"Your Tax is\",5*Bike_cost/100,\"Rupees only\")\n",
    "    "
   ]
  },
  {
   "cell_type": "code",
   "execution_count": null,
   "metadata": {},
   "outputs": [],
   "source": [
    "#Answer 3 :-\n",
    "\n",
    "\n",
    "city=input(\"Please enter your City Name\")\n",
    "if city==\"Delhi\":\n",
    "    print(\"Red Fort\")\n",
    "elif city==\"Agra\":\n",
    "    print(\"Taj Mahal\")\n",
    "elif city==\"Jaipur\":\n",
    "    print(\"Jal Mahal\")\n",
    "else:\n",
    "    print(\"Please Enter a Valid City i.e Delhi, Agra or Jaipur\")\n",
    "    "
   ]
  },
  {
   "cell_type": "code",
   "execution_count": null,
   "metadata": {},
   "outputs": [],
   "source": [
    "#Answer 5\n",
    "\n",
    "#While loop is used to execute a block of statements repeatedly unit a given condition is satisfied.\n",
    "#When the condition becomes false, the line immediately after the loop in the program is executed.\n",
    "\n",
    "#for example\n",
    "\n",
    "i=1\n",
    "while i<=5:\n",
    "    print(i)\n",
    "    i=i+1\n",
    "print(\"While loop is completed\")"
   ]
  },
  {
   "cell_type": "code",
   "execution_count": null,
   "metadata": {},
   "outputs": [],
   "source": [
    "#Answer 7\n",
    "\n",
    "i=10\n",
    "while i>=1:\n",
    "    print(i)\n",
    "    i=i-1\n",
    "    "
   ]
  },
  {
   "cell_type": "code",
   "execution_count": null,
   "metadata": {},
   "outputs": [],
   "source": [
    "#Answer 8 \n",
    "i=10\n",
    "l=[]\n",
    "while i>=1:\n",
    "    l.append(i)\n",
    "    i=i-1\n",
    "print(l)"
   ]
  }
 ],
 "metadata": {
  "kernelspec": {
   "display_name": "Python 3 (ipykernel)",
   "language": "python",
   "name": "python3"
  },
  "language_info": {
   "codemirror_mode": {
    "name": "ipython",
    "version": 3
   },
   "file_extension": ".py",
   "mimetype": "text/x-python",
   "name": "python",
   "nbconvert_exporter": "python",
   "pygments_lexer": "ipython3",
   "version": "3.10.6"
  }
 },
 "nbformat": 4,
 "nbformat_minor": 4
}
