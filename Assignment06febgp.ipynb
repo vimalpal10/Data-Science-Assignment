{
 "cells": [
  {
   "cell_type": "markdown",
   "id": "0b7460dd-874b-42b6-9e92-3e0dbf4384ae",
   "metadata": {},
   "source": [
    "Question 1. Create a function which will take a list as an argument and return the product of all the numbers after creating a flat list.\n",
    "\n",
    "Use the below-given list as an argument for your function.\n",
    "\n",
    "list1 = [1,2,3,4, [44,55,66, True], False, (34,56,78,89,34), {1,2,3,3,2,1}, {1:34, \"key2\": [55, 67, 78, 89], 4: (45,\n",
    "22, 61, 34)}, [56, 'data science'], 'Machine Learning']\n",
    "\n",
    "Note: you must extract numeric keys and values of the dictionary also.\n"
   ]
  },
  {
   "cell_type": "code",
   "execution_count": 1,
   "id": "934dbcef-b449-4772-b44d-eff640fa35e9",
   "metadata": {},
   "outputs": [
    {
     "name": "stdout",
     "output_type": "stream",
     "text": [
      "19679733278309744640\n"
     ]
    }
   ],
   "source": [
    "def product_of_numbers(lst):\n",
    "    flat_list = []\n",
    "    for item in lst:\n",
    "        if type(item) in (int, float):\n",
    "            flat_list.append(item)\n",
    "        elif type(item) == list:\n",
    "            flat_list += [i for i in item if type(i) in (int, float)]\n",
    "        elif type(item) == tuple:\n",
    "            flat_list += [i for i in item if type(i) in (int, float)]\n",
    "        elif type(item) == set:\n",
    "            flat_list += [i for i in item if type(i) in (int, float)]\n",
    "        elif type(item) == dict:\n",
    "            flat_list += [i for i in item.values() if type(i) in (int, float)]\n",
    "    product = 1\n",
    "    for num in flat_list:\n",
    "        product *= num\n",
    "    return product\n",
    "list1 = [1,2,3,4, [44,55,66, True], False, (34,56,78,89,34), {1,2,3,3,2,1}, {1:34, \"key2\": [55, 67, 78, 89], 4: (45, 22, 61, 34)}, [56, 'data science'], 'Machine Learning']\n",
    "result = product_of_numbers(list1)\n",
    "print(result)\n"
   ]
  },
  {
   "cell_type": "markdown",
   "id": "52022c86-4df1-48e8-8d54-f8a00d16e04d",
   "metadata": {},
   "source": [
    "Question 2. Write a python program for encrypting a message sent to you by your friend. The logic of encryption\n",
    "should be such that, for a the output should be z. For b, the output should be y. For c, the output should\n",
    "be x respectively. Also, the whitespace should be replaced with a dollar sign. Keep the punctuation\n",
    "marks unchanged.\n",
    "\n",
    "Input Sentence: I want to become a Data Scientist.\n",
    "\n",
    "Encrypt the above input sentence using the program you just created.\n",
    "Note: Convert the given input sentence into lowercase before encrypting. The final output should be\n",
    "lowercase."
   ]
  },
  {
   "cell_type": "code",
   "execution_count": 3,
   "id": "37ea58ba-4143-425b-b715-124f64091b6d",
   "metadata": {},
   "outputs": [
    {
     "name": "stdout",
     "output_type": "stream",
     "text": [
      "r$dzmg$gl$yvxlnv$z$wzgz$hxrvmgrhg.\n"
     ]
    }
   ],
   "source": [
    "def encrypt_message(msg):\n",
    "    msg = msg.lower()\n",
    "    encrypted_msg = ''\n",
    "    for c in msg:\n",
    "        if c.isalpha():\n",
    "            encrypted_c = chr(ord('a') + (ord('z') - ord(c)))\n",
    "            encrypted_msg += encrypted_c\n",
    "        elif c.isspace():\n",
    "            encrypted_msg += '$'\n",
    "        else:\n",
    "            encrypted_msg += c\n",
    "    return encrypted_msg\n",
    "\n",
    "input_sentence = 'I want to become a Data Scientist.'\n",
    "encrypted_sentence = encrypt_message(input_sentence)\n",
    "print(encrypted_sentence)\n"
   ]
  },
  {
   "cell_type": "code",
   "execution_count": null,
   "id": "b56740e0-a88d-4fee-b23a-28a7f0d28dcf",
   "metadata": {},
   "outputs": [],
   "source": []
  }
 ],
 "metadata": {
  "kernelspec": {
   "display_name": "Python 3 (ipykernel)",
   "language": "python",
   "name": "python3"
  },
  "language_info": {
   "codemirror_mode": {
    "name": "ipython",
    "version": 3
   },
   "file_extension": ".py",
   "mimetype": "text/x-python",
   "name": "python",
   "nbconvert_exporter": "python",
   "pygments_lexer": "ipython3",
   "version": "3.10.6"
  }
 },
 "nbformat": 4,
 "nbformat_minor": 5
}
