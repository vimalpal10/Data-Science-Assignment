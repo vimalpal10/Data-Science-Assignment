{
 "cells": [
  {
   "cell_type": "markdown",
   "id": "2a575ece-9694-47bf-b33c-a201711f3ddf",
   "metadata": {},
   "source": [
    "Q1. What is Abstraction in OOps? Explain with an example.\n"
   ]
  },
  {
   "cell_type": "markdown",
   "id": "47174e0a-7205-4c64-951c-938ae967502f",
   "metadata": {},
   "source": [
    "Answer\n",
    "\n",
    "Abstraction is the process of defining and representing the essential features of an object or system without worrying about how it works internally. This allows us to focus on what an object does, rather than how it does it, making it easier to understand, use, and modify."
   ]
  },
  {
   "cell_type": "code",
   "execution_count": null,
   "id": "cceb4b6a-f1cf-4ebc-9100-fde30f68dae4",
   "metadata": {},
   "outputs": [],
   "source": [
    "from abc import ABC, abstractmethod\n",
    "\n",
    "class Car(ABC):\n",
    "    @abstractmethod\n",
    "    def start_engine(self):\n",
    "        pass\n",
    "\n",
    "    @abstractmethod\n",
    "    def stop_engine(self):\n",
    "        pass\n",
    "\n",
    "    @abstractmethod\n",
    "    def accelerate(self):\n",
    "        pass\n",
    "\n",
    "    @abstractmethod\n",
    "    def brake(self):\n",
    "        pass\n",
    "\n",
    "class ElectricCar(Car):\n",
    "    def start_engine(self):\n",
    "        return \"Push button to start the electric motor\"\n",
    "\n",
    "    def stop_engine(self):\n",
    "        return \"Push button to stop the electric motor\"\n",
    "\n",
    "    def accelerate(self):\n",
    "        return \"Depress accelerator pedal to increase speed\"\n",
    "\n",
    "    def brake(self):\n",
    "        return \"Press brake pedal to slow down or stop the car\"\n",
    "\n",
    "class GasolineCar(Car):\n",
    "    def start_engine(self):\n",
    "        return \"Turn the key to start the gasoline engine\"\n",
    "\n",
    "    def stop_engine(self):\n",
    "        return \"Turn the key to stop the gasoline engine\"\n",
    "\n",
    "    def accelerate(self):\n",
    "        return \"Depress accelerator pedal to increase speed\"\n",
    "\n",
    "    def brake(self):\n",
    "        return \"Press brake pedal to slow down or stop the car\"\n",
    "    \n",
    "EC=ElectricCar()\n",
    "EC.start_engine()\n"
   ]
  },
  {
   "cell_type": "markdown",
   "id": "1d548984-c892-450e-8be8-0ab5587d26f3",
   "metadata": {},
   "source": [
    "Q2. Differentiate between Abstraction and Encapsulation. Explain with an example."
   ]
  },
  {
   "cell_type": "markdown",
   "id": "1a4145cd-1ed7-4da1-b0ce-fb6e2be9641b",
   "metadata": {},
   "source": [
    "Answer\n",
    "\n",
    "Abstraction is about representing only the essential features of an object or system, while encapsulation is about hiding the internal details of an object from the outside world.\n",
    "\n",
    "Abstraction simplifies complex systems by breaking them down into smaller, more manageable parts, while encapsulation protects the object's state from being modified by external code.\n",
    "\n",
    "Abstraction focuses on what an object does, while encapsulation focuses on how an object does it.\n",
    "By using abstraction and encapsulation effectively, we can create code that is easier to understand, use, and modify, and that is less prone to errors and bugs.\n",
    " "
   ]
  },
  {
   "cell_type": "markdown",
   "id": "f0c1dfbf-b443-4ea3-9445-e46b845f8d74",
   "metadata": {},
   "source": [
    "Q3. What is abc module in python? Why is it used?"
   ]
  },
  {
   "cell_type": "markdown",
   "id": "3ad8cbc4-fb5e-4106-8255-ea7cccdeb086",
   "metadata": {},
   "source": [
    "The abc (Abstract Base Classes) module is a built-in Python module that provides the infrastructure for defining abstract base classes. An abstract base class is a class that cannot be instantiated and is meant to be subclassed by other classes that will provide concrete implementations for its abstract methods.\n",
    "It also provides the abstractmethod decorator, which is used to mark a method as an abstract method.\n",
    "\n",
    "It is used because the abc module provides a powerful and flexible way to define and enforce interfaces and to ensure that different parts of a Python program work together correctly. By using abstract base classes and the ABC class provided by the abc module, we can write more modular, maintainable, and reusable code.\n"
   ]
  },
  {
   "cell_type": "markdown",
   "id": "d50b375b-adf2-4ad3-87c5-cb3ef92905db",
   "metadata": {},
   "source": [
    "Q4. How can we achieve data abstraction?"
   ]
  },
  {
   "cell_type": "markdown",
   "id": "dcc019fe-2bd3-410d-96ab-f2fc3810d9a7",
   "metadata": {},
   "source": [
    "Data abstraction can be achieved by encapsulation. We use an attribute or method with a single underscore (_), we indicate that it is intended to be a private member of the class, and should not be accessed directly from outside the class. But we can accesss them by getters and setters or by making methods. "
   ]
  },
  {
   "cell_type": "markdown",
   "id": "772c5949-7ed5-4172-90dd-2d00a581b779",
   "metadata": {},
   "source": [
    "Q5. Can we create an instance of an abstract class? Explain your answer."
   ]
  },
  {
   "cell_type": "markdown",
   "id": "98597242-be6e-49ec-b34b-10fad7d9cddd",
   "metadata": {},
   "source": [
    "No, we can't make a instance of abstract class becouse abstract class is just a blueprint. An abstract class serves as a blueprint for other classes to inherit from and provides a set of methods and properties that subclasses must implement.Abstract classes often have abstract methods, which are declared but not defined in the abstract class itself. Subclasses must implement these methods and provide their own implementation."
   ]
  }
 ],
 "metadata": {
  "kernelspec": {
   "display_name": "Python 3 (ipykernel)",
   "language": "python",
   "name": "python3"
  },
  "language_info": {
   "codemirror_mode": {
    "name": "ipython",
    "version": 3
   },
   "file_extension": ".py",
   "mimetype": "text/x-python",
   "name": "python",
   "nbconvert_exporter": "python",
   "pygments_lexer": "ipython3",
   "version": "3.10.6"
  }
 },
 "nbformat": 4,
 "nbformat_minor": 5
}
