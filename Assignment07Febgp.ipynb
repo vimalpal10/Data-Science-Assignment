{
 "cells": [
  {
   "cell_type": "markdown",
   "id": "fa1d3721-a6bc-45bf-b5d9-82868d5f96f6",
   "metadata": {},
   "source": [
    "Q1. You are writing code for a company. The requirement of the company is that you create a python\n",
    "function that will check whether the password entered by the user is correct or not. The function should\n",
    "take the password as input and return the string “Valid Password” if the entered password follows the\n",
    "below-given password guidelines else it should return “Invalid Password”.\n",
    "Note: 1. The Password should contain at least two uppercase letters and at least two lowercase letters.\n",
    "2. The Password should contain at least a number and three special characters.\n",
    "3. The length of the password should be 10 characters long.\n",
    "\n"
   ]
  },
  {
   "cell_type": "code",
   "execution_count": null,
   "id": "dd300c79-e02a-4df7-8ca3-456844ccd258",
   "metadata": {},
   "outputs": [],
   "source": [
    "def validator(password):\n",
    "    uppercase_count = 0\n",
    "    lowercase_count = 0\n",
    "    int_count = 0\n",
    "    specialchar_count = 0\n",
    "    if len(password) != 10:\n",
    "        return \"Invalid Password\"\n",
    "    for i in password:\n",
    "        if i.isupper():\n",
    "            uppercase_count += 1\n",
    "        elif i.islower():\n",
    "            lowercase_count += 1\n",
    "        elif i.isdigit():\n",
    "            int_count += 1\n",
    "        else:\n",
    "            specialchar_count += 1\n",
    "    if uppercase_count < 2 or lowercase_count < 2 or int_count == 0 or specialchar_count < 3:\n",
    "        return \"Invalid Password\"\n",
    "    else:\n",
    "        return \"Valid Password\"\n",
    "\n",
    "\n",
    "password = \"VimaL@@@31\"\n",
    "result = validator(password)\n",
    "print(result)\n"
   ]
  },
  {
   "cell_type": "code",
   "execution_count": null,
   "id": "172a637e-115f-4285-83cc-257c5fb2f589",
   "metadata": {},
   "outputs": [],
   "source": []
  },
  {
   "cell_type": "markdown",
   "id": "01787db5-6086-4ed5-a4db-91765ccbfc33",
   "metadata": {},
   "source": [
    "Q2. Solve the below-given questions using at least one of the following:\n",
    "1. Lambda function\n",
    "2. Filter function\n",
    "3. Zap function\n",
    "4. List ComprehensioI\n",
    "Check if the string starts with a particular letter\n",
    "Check if the string is numeric\n",
    "Sort a list of tuples having fruit names and their quantity. [(\"mango\",99),(\"orange\",80), (\"grapes\", 1000)-\n",
    "Find the squares of numbers from 1 to 10\n",
    "Find the cube root of numbers from 1 to 10\n",
    "Check if a given number is even\n",
    "Filter odd numbers from the given list.\n",
    "[1,2,3,4,5,6,7,8,9,10-\n",
    "B Sort a list of integers into positive and negative integers lists.\n",
    "[1,2,3,4,5,6,-1,-2,-3,-4,-5,0]"
   ]
  },
  {
   "cell_type": "markdown",
   "id": "84e42a14-8675-49f5-9b83-fb8fc2c693ca",
   "metadata": {},
   "source": [
    "Lambda function:\n",
    "A lambda function is an anonymous function that can take any number of arguments but can have only one expression. It is usually used to define a small function that is used only once in the program.\n",
    "\n",
    "Filter function:\n",
    "The filter() function in Python is used to filter a given iterable (list, tuple, etc.) based on the condition given in the form of a lambda function. It returns a filter object, which can be converted into an iterable (list, tuple, etc.) for further use.\n",
    "\n",
    "List Comprehension:\n",
    "List comprehension is a concise way to create lists in Python. It is a syntactic construct that allows you to create a list from an existing list or any iterable object.\n",
    "\n",
    "Zap function:\n",
    "Zap is a function from the PyFunctional library. It is a lazy functional programming library for Python that emphasizes immutability and composability. It provides a wide range of functional programming tools, such as map, filter, reduce, and many others."
   ]
  },
  {
   "cell_type": "code",
   "execution_count": 11,
   "id": "d4c928c0-7376-4a73-a17d-ff1d588769e8",
   "metadata": {},
   "outputs": [
    {
     "name": "stdout",
     "output_type": "stream",
     "text": [
      "True\n",
      "False\n"
     ]
    }
   ],
   "source": [
    "#Check if the string starts with a particular letter\n",
    "#Using Lambda function:\n",
    "\n",
    "starts_with = lambda string, letter: True if string.startswith(letter) else False\n",
    "print(starts_with(\"Hello world\", \"H\"))  # Output: True\n",
    "print(starts_with(\"Hello world\", \"W\"))  # Output: False\n"
   ]
  },
  {
   "cell_type": "code",
   "execution_count": null,
   "id": "d920567b-47d2-4d2d-a14f-b812a9533027",
   "metadata": {},
   "outputs": [],
   "source": [
    "#Check if the string is numeric\n",
    "#Using Lambda function:\n",
    "is_numeric = lambda string: True if string.isnumeric() else False\n",
    "print(is_numeric(\"12345\"))  # Output: True\n",
    "print(is_numeric(\"abc123\"))  # Output: False\n"
   ]
  },
  {
   "cell_type": "code",
   "execution_count": null,
   "id": "1f32bdb6-b05f-46ce-9796-7409c212f1bb",
   "metadata": {},
   "outputs": [],
   "source": [
    "#Sort a list of tuples having fruit names and their quantity. [(\"mango\",99),(\"orange\",80), (\"grapes\", 1000)]\n",
    "#Using Lambda function:\n",
    "\n",
    "fruits = [(\"mango\",99),(\"orange\",80), (\"grapes\", 1000)]\n",
    "sorted_fruits = sorted(fruits, key=lambda x: x[1])\n",
    "print(sorted_fruits)  # Output: [('orange', 80), ('mango', 99), ('grapes', 1000)]\n"
   ]
  },
  {
   "cell_type": "code",
   "execution_count": null,
   "id": "323748f3-e01a-4722-830d-a73d5c22beb5",
   "metadata": {},
   "outputs": [],
   "source": [
    "#Find the squares of numbers from 1 to 10\n",
    "#Using List Comprehension:\n",
    "\n",
    "squares = [x**2 for x in range(1, 11)]\n",
    "print(squares)  # Output: [1, 4, 9, 16, 25, 36, 49, 64, 81, 100]\n"
   ]
  },
  {
   "cell_type": "code",
   "execution_count": null,
   "id": "bceacc30-a05a-4b41-9672-5313ae56b901",
   "metadata": {},
   "outputs": [],
   "source": [
    "#Find the cube root of numbers from 1 to 10\n",
    "#Using List Comprehension:\n",
    "\n",
    "import math\n",
    "cube_roots = [math.pow(x, 1/3) for x in range(1, 11)]\n",
    "print(cube_roots)  # Output: [1.0, 1.2599210498948732, 1.4422495703074083, 1.5874010519681994, 1.7099759466766968, 1.8171205928321397, 1.912931182772389, 2.0, 2.080083823051904, 2.154434690031884]\n"
   ]
  },
  {
   "cell_type": "code",
   "execution_count": null,
   "id": "698bd350-6e9d-4bfe-ab94-c4693bcc413b",
   "metadata": {},
   "outputs": [],
   "source": [
    "#Filter odd numbers from the given list.\n",
    "#LST[1,2,3,4,5,6,7,8,9,10]\n",
    "l=[1,2,3,4,5,6,7,8,9,10]\n",
    "is_even=lambda l: True if i%2==0 else False\n",
    "\n",
    "is_even(l)"
   ]
  },
  {
   "cell_type": "code",
   "execution_count": null,
   "id": "be388311-aae9-48be-aef1-7609eb6de238",
   "metadata": {},
   "outputs": [],
   "source": [
    "lst = [1, 2, 3, 4, 5, 6, 7, 8, 9, 10]\n",
    "\n",
    "# use lambda function to check if a number is odd\n",
    "odd_numbers = list(filter(lambda x: x % 2 != 0, lst))\n",
    "\n",
    "print(odd_numbers)  # Output: [1, 3, 5, 7, 9]\n"
   ]
  },
  {
   "cell_type": "code",
   "execution_count": null,
   "id": "0afd5cef-5e64-4f6c-bba7-4862dc8b4a26",
   "metadata": {},
   "outputs": [],
   "source": [
    "#Check if a given number is even\n",
    "#Using Lambda function:\n",
    "\n",
    "is_even = lambda x: True if x % 2 == 0 else False\n",
    "print(is_even(4))  # Output: True\n",
    "print(is_even(5))  # Output: False\n",
    "\n"
   ]
  },
  {
   "cell_type": "code",
   "execution_count": null,
   "id": "9611329c-c521-46a1-997d-b2b262871743",
   "metadata": {},
   "outputs": [],
   "source": []
  }
 ],
 "metadata": {
  "kernelspec": {
   "display_name": "Python 3 (ipykernel)",
   "language": "python",
   "name": "python3"
  },
  "language_info": {
   "codemirror_mode": {
    "name": "ipython",
    "version": 3
   },
   "file_extension": ".py",
   "mimetype": "text/x-python",
   "name": "python",
   "nbconvert_exporter": "python",
   "pygments_lexer": "ipython3",
   "version": "3.10.6"
  }
 },
 "nbformat": 4,
 "nbformat_minor": 5
}
